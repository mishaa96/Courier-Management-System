{
 "cells": [
  {
   "cell_type": "markdown",
   "id": "e68dbc12",
   "metadata": {},
   "source": [
    "# Courier Management System\n",
    "\n",
    "For a seamless eCommerce shopping experience, it is essential to deliver the product promptly to the customer. And that’s where a professional courier service plays a vital role. 'FastTrack' courier company stores the relevant data of its clients and parcels.\n",
    "\n",
    "- <a href='#Imports'>Imports</a>\n",
    "- <a href='#Imports'>Models</a>\n",
    "- <a href='#Q1'>Q1. Create a Dictionary of lists to store the information of shipments given in the table</a>\n",
    "- <a href='#Q2'>Q2. Create a Dictionary of to store the information of clients given in the table.</a>\n",
    "- <a href='#Q3'>Q3. Write a code to replace client’s id with their respective name in shipment dictionary using a loop and dictionary comprehension.</a>\n",
    "- <a href='#Q4'>Q4. Print all shipment details that are sent by Phillip.</a>\n",
    "- <a href='#Q5'>Q5. Print all shipment details that are received by Ramya.</a>\n",
    "- <a href='#Q6'>Q6. Print all shipments which are in 'In-Transit' status.</a>\n",
    "- <a href='#Q7'>Q7. Print all shipments which are delivered within 7 days of courier Start date.</a>\n",
    "- <a href='#Q8'>Q8. Print all shipments which are delivered after 15 days of courier start date or not yet been delivered.</a>\n",
    "- <a href='#Q9'>Q9. Write a function find_all_routes to display all possible routes from senders location to  receivers location given in the dictionary for each shipment.</a>"
   ]
  },
  {
   "cell_type": "markdown",
   "id": "a78c8a1c",
   "metadata": {},
   "source": [
    "<div class=\"row\">\n",
    "  <div class=\"column\">\n",
    "    <img src=\"Shipments.png\" alt=\"Shipments\" style=\"width:100%\">\n",
    "  </div>\n",
    "  <div class=\"column\">\n",
    "    <img src=\"Clients.png\" alt=\"Clients\" style=\"width:20%\">\n",
    "  </div>\n",
    "</div>"
   ]
  },
  {
   "cell_type": "markdown",
   "id": "50c2bfa4",
   "metadata": {},
   "source": [
    "### Imports"
   ]
  },
  {
   "cell_type": "code",
   "execution_count": 1,
   "id": "b432d6c6",
   "metadata": {},
   "outputs": [],
   "source": [
    "# All imports are mentioned in this cell\n",
    "import operator\n",
    "import timeit\n",
    "\n",
    "from dataclasses import dataclass, field\n",
    "from dateutil.parser import parse\n",
    "from itertools import count\n",
    "from functools import reduce\n",
    "from typing import Dict, List, Tuple"
   ]
  },
  {
   "cell_type": "markdown",
   "id": "a83a9de5",
   "metadata": {},
   "source": [
    "### Models"
   ]
  },
  {
   "cell_type": "code",
   "execution_count": 2,
   "id": "379a68e3",
   "metadata": {},
   "outputs": [],
   "source": [
    "# Client Model, Shipment Model and CourierService Model which imports the first two\n",
    "\n",
    "@dataclass\n",
    "class Client:\n",
    "    client_id: int = field(default = 1)\n",
    "    client: Dict[int, str] = field(default_factory=dict)\n",
    "        \n",
    "    def add(cls, client_name: str):\n",
    "        cls.client.update({cls.client_id : client_name})\n",
    "        cls.client_id += 1\n",
    "        \n",
    "    def clients(cls):\n",
    "        return cls.client\n",
    "    \n",
    "    def client_name(cls, client_id):\n",
    "        return cls.client[client_id]\n",
    "    \n",
    "@dataclass\n",
    "class Shipment:\n",
    "    shipment_id: int = field(default=101)\n",
    "    shipment: Dict[int, list] = field(default_factory=dict)\n",
    "    headers: Tuple = field(default=(\"Sender\", \"Receiver\", \"Sender Location\", \"Receiver Location\", \n",
    "                                   \"Delivery Status\", \"Shipping Cost\", \"Start Date\", \"End Date\"))\n",
    "    dtype: Tuple = field(default=(int, int, str, str, str, int, parse, parse))\n",
    "    default: Tuple = field(default=(1, 1, \"\", \"\", \"In-Transit\", 0, None, None))\n",
    "        \n",
    "    def shipment_info_format(cls, data):\n",
    "        data = data.split(\",\")\n",
    "        data += cls.default[len(data):]\n",
    "        return map(lambda x, y, z: y(x.strip()  if isinstance(x, str) else x) if x else z, data, cls.dtype, cls.default)\n",
    "        \n",
    "    def store(cls, data):\n",
    "        data = cls.shipment_info_format(data)\n",
    "        cls.shipment.update({cls.shipment_id: list(data)})\n",
    "        cls.shipment_id += 1\n",
    "    \n",
    "    def shipments(cls):\n",
    "        return cls.shipment\n",
    "    \n",
    "    def shipment_info(cls, shipment_id):\n",
    "        return cls.shipment[shipment_id]\n",
    "    \n",
    "@dataclass\n",
    "class CourierService(Client, Shipment):\n",
    "    routes = [\n",
    "        [0, 1, 0, 0, 0, 1],\n",
    "        [1, 0, 1, 1, 0, 0],\n",
    "        [0, 1, 0, 1, 0, 0],\n",
    "        [0, 1, 1, 0, 1, 0],\n",
    "        [0, 0, 0, 1, 0, 0],\n",
    "        [1, 0, 0, 0, 0, 0]\n",
    "    ]\n",
    "    locations = ['Area1', 'Area2', 'Area3', 'Area4', 'Area5', 'Area6']\n",
    "\n",
    "# Instance created for courier service\n",
    "courier =  CourierService()"
   ]
  },
  {
   "cell_type": "markdown",
   "id": "99e1b11f",
   "metadata": {},
   "source": [
    "#### <b id=\"Q1\">Q1. Create a Dictionary of lists to store the information of shipments given in the table</b>\n",
    "<br>\n",
    "Shipment id is used as a key and list of other attributes like sender, receiver, start date, Delivery Date, Sender_location, Receiver_location, Delivery status, Shipping cost is associated with shipment id"
   ]
  },
  {
   "cell_type": "markdown",
   "id": "5b877e20",
   "metadata": {},
   "source": [
    "**A1.**: \n",
    "<pre>CREATE pre-defined list of shipment details\n",
    "STORE the values in the Shipments Model in a dict of lists format\n",
    "CHANGE the format of the date to a datetime object</pre>"
   ]
  },
  {
   "cell_type": "code",
   "execution_count": 3,
   "id": "d14b0691",
   "metadata": {},
   "outputs": [
    {
     "data": {
      "text/plain": [
       "{101: [1,\n",
       "  3,\n",
       "  'Area1',\n",
       "  'Area6',\n",
       "  'Delivered',\n",
       "  198,\n",
       "  datetime.datetime(2020, 3, 14, 0, 0),\n",
       "  datetime.datetime(2020, 3, 25, 0, 0)],\n",
       " 102: [4,\n",
       "  1,\n",
       "  'Area2',\n",
       "  'Area4',\n",
       "  'Delivered',\n",
       "  275,\n",
       "  datetime.datetime(2020, 6, 18, 0, 0),\n",
       "  datetime.datetime(2020, 9, 7, 0, 0)],\n",
       " 103: [2,\n",
       "  3,\n",
       "  'Area5',\n",
       "  'Area1',\n",
       "  'In-Transit',\n",
       "  200,\n",
       "  datetime.datetime(2020, 1, 12, 0, 0),\n",
       "  None],\n",
       " 104: [1,\n",
       "  5,\n",
       "  'Area1',\n",
       "  'Area4',\n",
       "  'Delivered',\n",
       "  314,\n",
       "  datetime.datetime(2020, 6, 23, 0, 0),\n",
       "  datetime.datetime(2020, 6, 25, 0, 0)],\n",
       " 105: [3,\n",
       "  4,\n",
       "  'Area5',\n",
       "  'Area3',\n",
       "  'Delivered',\n",
       "  275,\n",
       "  datetime.datetime(2020, 8, 29, 0, 0),\n",
       "  datetime.datetime(2020, 10, 9, 0, 0)],\n",
       " 106: [5,\n",
       "  2,\n",
       "  'Area3',\n",
       "  'Area1',\n",
       "  'In-Transit',\n",
       "  270,\n",
       "  datetime.datetime(2020, 6, 28, 0, 0),\n",
       "  None]}"
      ]
     },
     "execution_count": 3,
     "metadata": {},
     "output_type": "execute_result"
    }
   ],
   "source": [
    "shipments = [\n",
    "    \"1, 3, Area1, Area6, Delivered, 198, 14-03-2020, 25-03-2020\",\n",
    "    \"4, 1, Area2, Area4, Delivered, 275, 18-06-2020, 09-07-2020\",\n",
    "    \"2, 3, Area5, Area1, In-Transit, 200, 01-12-2020\",\n",
    "    \"1, 5, Area1, Area4, Delivered, 314, 23-06-2020, 25-06-2020\",\n",
    "    \"3, 4, Area5, Area3, Delivered, 275, 29-08-2020, 10-09-2020\",\n",
    "    \"5, 2, Area3, Area1, In-Transit, 270, 28-06-2020\"\n",
    "]\n",
    "\n",
    "for shipment in shipments:\n",
    "    courier.store(shipment)\n",
    "\n",
    "courier.shipments()"
   ]
  },
  {
   "cell_type": "markdown",
   "id": "51670cab",
   "metadata": {},
   "source": [
    "#### <b id=\"Q2\">Q2. Create a Dictionary of to store the information of clients given in the table.</b>"
   ]
  },
  {
   "cell_type": "markdown",
   "id": "8b856b54",
   "metadata": {},
   "source": [
    "**A2.**\n",
    "<pre>\n",
    "CREATE predefined list of clients\n",
    "STORE values in Client Model in the form of dict\n",
    "</pre>"
   ]
  },
  {
   "cell_type": "code",
   "execution_count": 4,
   "id": "12093de4",
   "metadata": {},
   "outputs": [
    {
     "data": {
      "text/plain": [
       "{1: 'Phillip', 2: 'Omega III', 3: 'Ramya', 4: 'Romesh', 5: 'John'}"
      ]
     },
     "execution_count": 4,
     "metadata": {},
     "output_type": "execute_result"
    }
   ],
   "source": [
    "clients = ['Phillip', 'Omega III', 'Ramya', 'Romesh', 'John']\n",
    "\n",
    "for client in clients:\n",
    "    courier.add(client)\n",
    "    \n",
    "courier.clients()"
   ]
  },
  {
   "cell_type": "markdown",
   "id": "6094da5f",
   "metadata": {},
   "source": [
    "#### <b id=\"Q3\">Q3. Write a code to replace client’s id with their respective name in shipment dictionary using a loop and dictionary comprehension</b>"
   ]
  },
  {
   "cell_type": "markdown",
   "id": "2387800f",
   "metadata": {},
   "source": [
    "**A3.**\n",
    "<pre>\n",
    "RETRIEVE the stored shipments\n",
    "LOOP through the shipments\n",
    "FETCH the first two indexes which corresponds to sender and receiver client ids\n",
    "USE Client model's method to get the client name based on client id\n",
    "UPDATE the stored shipments\n",
    "</pre>"
   ]
  },
  {
   "cell_type": "code",
   "execution_count": 5,
   "id": "08c73386",
   "metadata": {},
   "outputs": [
    {
     "data": {
      "text/plain": [
       "{101: ['Phillip',\n",
       "  'Ramya',\n",
       "  'Area1',\n",
       "  'Area6',\n",
       "  'Delivered',\n",
       "  198,\n",
       "  datetime.datetime(2020, 3, 14, 0, 0),\n",
       "  datetime.datetime(2020, 3, 25, 0, 0)],\n",
       " 102: ['Romesh',\n",
       "  'Phillip',\n",
       "  'Area2',\n",
       "  'Area4',\n",
       "  'Delivered',\n",
       "  275,\n",
       "  datetime.datetime(2020, 6, 18, 0, 0),\n",
       "  datetime.datetime(2020, 9, 7, 0, 0)],\n",
       " 103: ['Omega III',\n",
       "  'Ramya',\n",
       "  'Area5',\n",
       "  'Area1',\n",
       "  'In-Transit',\n",
       "  200,\n",
       "  datetime.datetime(2020, 1, 12, 0, 0),\n",
       "  None],\n",
       " 104: ['Phillip',\n",
       "  'John',\n",
       "  'Area1',\n",
       "  'Area4',\n",
       "  'Delivered',\n",
       "  314,\n",
       "  datetime.datetime(2020, 6, 23, 0, 0),\n",
       "  datetime.datetime(2020, 6, 25, 0, 0)],\n",
       " 105: ['Ramya',\n",
       "  'Romesh',\n",
       "  'Area5',\n",
       "  'Area3',\n",
       "  'Delivered',\n",
       "  275,\n",
       "  datetime.datetime(2020, 8, 29, 0, 0),\n",
       "  datetime.datetime(2020, 10, 9, 0, 0)],\n",
       " 106: ['John',\n",
       "  'Omega III',\n",
       "  'Area3',\n",
       "  'Area1',\n",
       "  'In-Transit',\n",
       "  270,\n",
       "  datetime.datetime(2020, 6, 28, 0, 0),\n",
       "  None]}"
      ]
     },
     "execution_count": 5,
     "metadata": {},
     "output_type": "execute_result"
    }
   ],
   "source": [
    "courier.shipment = {shipment_id: [courier.client_name(observation) if index in [0,1] else observation for index, observation in enumerate(shipment_info)] for shipment_id, shipment_info in courier.shipments().items()}\n",
    "\n",
    "courier.shipments()"
   ]
  },
  {
   "cell_type": "markdown",
   "id": "13fceb35",
   "metadata": {},
   "source": [
    "#### <b id=\"Q4\">Q4. Print all shipment details that are sent by Phillip</b>"
   ]
  },
  {
   "cell_type": "markdown",
   "id": "cb3e1112",
   "metadata": {},
   "source": [
    "**A4.**\n",
    "FILTER using the sender matching Phillip"
   ]
  },
  {
   "cell_type": "code",
   "execution_count": 6,
   "id": "9077b184",
   "metadata": {},
   "outputs": [
    {
     "data": {
      "text/plain": [
       "{101: ['Phillip',\n",
       "  'Ramya',\n",
       "  'Area1',\n",
       "  'Area6',\n",
       "  'Delivered',\n",
       "  198,\n",
       "  datetime.datetime(2020, 3, 14, 0, 0),\n",
       "  datetime.datetime(2020, 3, 25, 0, 0)],\n",
       " 104: ['Phillip',\n",
       "  'John',\n",
       "  'Area1',\n",
       "  'Area4',\n",
       "  'Delivered',\n",
       "  314,\n",
       "  datetime.datetime(2020, 6, 23, 0, 0),\n",
       "  datetime.datetime(2020, 6, 25, 0, 0)]}"
      ]
     },
     "execution_count": 6,
     "metadata": {},
     "output_type": "execute_result"
    }
   ],
   "source": [
    "dict(filter(lambda x: x[1][courier.headers.index('Sender')] == \"Phillip\", courier.shipments().items()))"
   ]
  },
  {
   "cell_type": "markdown",
   "id": "ff3c78ea",
   "metadata": {},
   "source": [
    "#### <b id=\"Q5\">Q5. Print all shipment details that are received by Ramya</b>"
   ]
  },
  {
   "cell_type": "markdown",
   "id": "09ba625d",
   "metadata": {},
   "source": [
    "**A5.**\n",
    "FILTER using the receiver matching Ramya"
   ]
  },
  {
   "cell_type": "code",
   "execution_count": 7,
   "id": "b0b962b1",
   "metadata": {},
   "outputs": [
    {
     "data": {
      "text/plain": [
       "{101: ['Phillip',\n",
       "  'Ramya',\n",
       "  'Area1',\n",
       "  'Area6',\n",
       "  'Delivered',\n",
       "  198,\n",
       "  datetime.datetime(2020, 3, 14, 0, 0),\n",
       "  datetime.datetime(2020, 3, 25, 0, 0)],\n",
       " 103: ['Omega III',\n",
       "  'Ramya',\n",
       "  'Area5',\n",
       "  'Area1',\n",
       "  'In-Transit',\n",
       "  200,\n",
       "  datetime.datetime(2020, 1, 12, 0, 0),\n",
       "  None]}"
      ]
     },
     "execution_count": 7,
     "metadata": {},
     "output_type": "execute_result"
    }
   ],
   "source": [
    "dict(filter(lambda x: x[1][courier.headers.index('Receiver')] == \"Ramya\", courier.shipments().items()))"
   ]
  },
  {
   "cell_type": "markdown",
   "id": "d39a65eb",
   "metadata": {},
   "source": [
    "#### <b id=\"Q6\">Q6. Print all shipments which are in 'In-Transit' status</b>"
   ]
  },
  {
   "cell_type": "markdown",
   "id": "bd0787c1",
   "metadata": {},
   "source": [
    "**A6.**\n",
    "FILTER using the delivery status matching In Transit"
   ]
  },
  {
   "cell_type": "code",
   "execution_count": 8,
   "id": "ac0c8462",
   "metadata": {},
   "outputs": [
    {
     "data": {
      "text/plain": [
       "{103: ['Omega III',\n",
       "  'Ramya',\n",
       "  'Area5',\n",
       "  'Area1',\n",
       "  'In-Transit',\n",
       "  200,\n",
       "  datetime.datetime(2020, 1, 12, 0, 0),\n",
       "  None],\n",
       " 106: ['John',\n",
       "  'Omega III',\n",
       "  'Area3',\n",
       "  'Area1',\n",
       "  'In-Transit',\n",
       "  270,\n",
       "  datetime.datetime(2020, 6, 28, 0, 0),\n",
       "  None]}"
      ]
     },
     "execution_count": 8,
     "metadata": {},
     "output_type": "execute_result"
    }
   ],
   "source": [
    "dict(filter(lambda x: x[1][courier.headers.index('Delivery Status')] == \"In-Transit\", courier.shipments().items()))"
   ]
  },
  {
   "cell_type": "markdown",
   "id": "38ba2d28",
   "metadata": {},
   "source": [
    "#### <b id=\"Q7\">Q7. Print all shipments which are delivered within 7 days of courier Start date</b>"
   ]
  },
  {
   "cell_type": "markdown",
   "id": "b30c4344",
   "metadata": {},
   "source": [
    "**A7.**\n",
    "FIND difference between the end date and start date, and check if less than or equal to 7 if the delivery status is Delivered"
   ]
  },
  {
   "cell_type": "code",
   "execution_count": 9,
   "id": "bb581dba",
   "metadata": {},
   "outputs": [
    {
     "data": {
      "text/plain": [
       "{104: ['Phillip',\n",
       "  'John',\n",
       "  'Area1',\n",
       "  'Area4',\n",
       "  'Delivered',\n",
       "  314,\n",
       "  datetime.datetime(2020, 6, 23, 0, 0),\n",
       "  datetime.datetime(2020, 6, 25, 0, 0)]}"
      ]
     },
     "execution_count": 9,
     "metadata": {},
     "output_type": "execute_result"
    }
   ],
   "source": [
    "dict(filter(lambda x: x[1][courier.headers.index('Delivery Status')] == \"Delivered\" and (x[1][courier.headers.index('End Date')]-x[1][courier.headers.index('Start Date')]).days <= 7, courier.shipments().items()))"
   ]
  },
  {
   "cell_type": "markdown",
   "id": "3424921f",
   "metadata": {},
   "source": [
    "#### <b id=\"Q8\">Q8. Print all shipments which are delivered after 15 days of courier start date or not yet been delivered.</b>"
   ]
  },
  {
   "cell_type": "markdown",
   "id": "306a73ef",
   "metadata": {},
   "source": [
    "**A8.**\n",
    "FILTER based on delivery status matching in transit or find the difference between end date and start date and check if total number of days is more than 15"
   ]
  },
  {
   "cell_type": "code",
   "execution_count": 10,
   "id": "32b5304c",
   "metadata": {},
   "outputs": [
    {
     "data": {
      "text/plain": [
       "{102: ['Romesh',\n",
       "  'Phillip',\n",
       "  'Area2',\n",
       "  'Area4',\n",
       "  'Delivered',\n",
       "  275,\n",
       "  datetime.datetime(2020, 6, 18, 0, 0),\n",
       "  datetime.datetime(2020, 9, 7, 0, 0)],\n",
       " 103: ['Omega III',\n",
       "  'Ramya',\n",
       "  'Area5',\n",
       "  'Area1',\n",
       "  'In-Transit',\n",
       "  200,\n",
       "  datetime.datetime(2020, 1, 12, 0, 0),\n",
       "  None],\n",
       " 105: ['Ramya',\n",
       "  'Romesh',\n",
       "  'Area5',\n",
       "  'Area3',\n",
       "  'Delivered',\n",
       "  275,\n",
       "  datetime.datetime(2020, 8, 29, 0, 0),\n",
       "  datetime.datetime(2020, 10, 9, 0, 0)],\n",
       " 106: ['John',\n",
       "  'Omega III',\n",
       "  'Area3',\n",
       "  'Area1',\n",
       "  'In-Transit',\n",
       "  270,\n",
       "  datetime.datetime(2020, 6, 28, 0, 0),\n",
       "  None]}"
      ]
     },
     "execution_count": 10,
     "metadata": {},
     "output_type": "execute_result"
    }
   ],
   "source": [
    "dict(filter(lambda x: x[1][courier.headers.index('Delivery Status')] == \"In-Transit\" or (x[1][courier.headers.index('End Date')]-x[1][courier.headers.index('Start Date')]).days > 15, courier.shipments().items()))"
   ]
  },
  {
   "cell_type": "markdown",
   "id": "124e5af8",
   "metadata": {},
   "source": [
    "#### <b id=\"Q9\">Q9. Write a function find_all_routes to display all possible routes from senders location to  receivers location given in the dictionary for each shipment.</b>\n",
    "\n",
    "<div class=\"row\">\n",
    "  <div class=\"column\">\n",
    "      <img src=\"Routes.png\" style=\"width:25%;\">\n",
    "  </div>\n",
    "</div>\n"
   ]
  },
  {
   "cell_type": "markdown",
   "id": "9881e774",
   "metadata": {},
   "source": [
    "**A9.**\n",
    "<pre>SET visited to a list with length 6 containing all False\n",
    "SET path to a list\n",
    "SET paths to a list\n",
    "\n",
    "LOOP through shipments and get the start and end points\n",
    "    CALL function find  all routes and pass the start and end points with visited, path and paths\n",
    "    UPDATE visited with the index as start index to True to indicate we have checked this node\n",
    "    APPEND to path with incremented value of start index\n",
    "\n",
    "    IF start is equal to END\n",
    "        UPDATE PATHS with the new path\n",
    "    ELSE\n",
    "        LOOP through the routes with index as start index\n",
    "            IF value at that index is 1 AND also not visited\n",
    "                CALL find all routes and current index as the start parameter with other fields as the same\n",
    "    REMOVE value from path - which we will be removed each time the function is called\n",
    "    AND UPDATED visited with the start index with FALSE so that the new shipments path can be calculated</pre>"
   ]
  },
  {
   "cell_type": "code",
   "execution_count": 11,
   "id": "f057d5af",
   "metadata": {},
   "outputs": [],
   "source": [
    "def find_all_routes(self, start_route, end_route, visitied, path, paths):\n",
    "    visited[start_route] = True\n",
    "    path.append(start_route+1)\n",
    "    if start_route == end_route:\n",
    "        paths.append(\"-\".join(map(lambda x: f\"Area{x}\", path)))\n",
    "    else:\n",
    "        for node, value in enumerate(self.routes[start_route]):\n",
    "            if value == 1 and (visited[node]==False):\n",
    "                self.find_all_routes(node, end_route, visited, path, paths)\n",
    "    path.pop()\n",
    "    visited[start_route] = False\n",
    "\n",
    "# Monkey patching\n",
    "courier.find_all_routes = find_all_routes.__get__(courier)"
   ]
  },
  {
   "cell_type": "code",
   "execution_count": 12,
   "id": "ab6c4adf",
   "metadata": {},
   "outputs": [
    {
     "name": "stdout",
     "output_type": "stream",
     "text": [
      "Shipment Id: 101\n",
      "Finding routes from Area1 to Area6\n",
      "Area1-Area6\n",
      "==========\n",
      "Shipment Id: 102\n",
      "Finding routes from Area2 to Area4\n",
      "Area2-Area3-Area4 or Area2-Area4\n",
      "Less number of stops is the path Area2-Area4\n",
      "==========\n",
      "Shipment Id: 103\n",
      "Finding routes from Area5 to Area1\n",
      "Area5-Area4-Area2-Area1 or Area5-Area4-Area3-Area2-Area1\n",
      "Less number of stops is the path Area5-Area4-Area2-Area1\n",
      "==========\n",
      "Shipment Id: 104\n",
      "Finding routes from Area1 to Area4\n",
      "Area1-Area2-Area3-Area4 or Area1-Area2-Area4\n",
      "Less number of stops is the path Area1-Area2-Area4\n",
      "==========\n",
      "Shipment Id: 105\n",
      "Finding routes from Area5 to Area3\n",
      "Area5-Area4-Area2-Area3 or Area5-Area4-Area3\n",
      "Less number of stops is the path Area5-Area4-Area3\n",
      "==========\n",
      "Shipment Id: 106\n",
      "Finding routes from Area3 to Area1\n",
      "Area3-Area2-Area1 or Area3-Area4-Area2-Area1\n",
      "Less number of stops is the path Area3-Area2-Area1\n",
      "==========\n"
     ]
    }
   ],
   "source": [
    "visited = [False for i in range(len(courier.routes))]\n",
    "path = []\n",
    "paths = []\n",
    "for shipment_id, shipment in courier.shipments().items():\n",
    "    start_from, end_at = shipment[courier.headers.index('Sender Location')], shipment[courier.headers.index('Receiver Location')]\n",
    "    start_route, end_route = courier.locations.index(start_from), courier.locations.index(end_at)\n",
    "    print(f\"Shipment Id: {shipment_id}\")\n",
    "    print(f\"Finding routes from {start_from} to {end_at}\")\n",
    "    paths.clear()\n",
    "    courier.find_all_routes(start_route, end_route, visited, path, paths)\n",
    "    if paths:\n",
    "        print(\" or \".join(paths))\n",
    "    else:\n",
    "        print(\"No paths available\")\n",
    "    # Find the path with less stops\n",
    "    if len(paths) > 1:\n",
    "        print(\"Less number of stops is the path\", \"\".join(reduce(lambda x, y: x if len(x) < len(y) else y, paths)))\n",
    "    print(\"==========\")"
   ]
  },
  {
   "cell_type": "code",
   "execution_count": null,
   "id": "fc4f0ba4",
   "metadata": {},
   "outputs": [],
   "source": []
  },
  {
   "cell_type": "code",
   "execution_count": null,
   "id": "050b1485",
   "metadata": {},
   "outputs": [],
   "source": []
  }
 ],
 "metadata": {
  "kernelspec": {
   "display_name": "Python 3 (ipykernel)",
   "language": "python",
   "name": "python3"
  },
  "language_info": {
   "codemirror_mode": {
    "name": "ipython",
    "version": 3
   },
   "file_extension": ".py",
   "mimetype": "text/x-python",
   "name": "python",
   "nbconvert_exporter": "python",
   "pygments_lexer": "ipython3",
   "version": "3.9.12"
  }
 },
 "nbformat": 4,
 "nbformat_minor": 5
}
